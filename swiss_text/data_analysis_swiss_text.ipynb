{
 "cells": [
  {
   "cell_type": "code",
   "execution_count": 2,
   "metadata": {},
   "outputs": [],
   "source": [
    "import json\n",
    "import jiwer as ji\n",
    "import pandas as pd\n",
    "import seaborn as sns\n",
    "import matplotlib.pyplot as plt"
   ]
  },
  {
   "cell_type": "code",
   "execution_count": null,
   "metadata": {},
   "outputs": [],
   "source": []
  },
  {
   "cell_type": "code",
   "execution_count": null,
   "metadata": {},
   "outputs": [],
   "source": []
  },
  {
   "cell_type": "markdown",
   "metadata": {},
   "source": [
    "# Section1: Data Loading"
   ]
  },
  {
   "cell_type": "markdown",
   "metadata": {},
   "source": [
    "This section is used for pre-processing the dataset."
   ]
  },
  {
   "cell_type": "code",
   "execution_count": null,
   "metadata": {},
   "outputs": [],
   "source": []
  },
  {
   "cell_type": "markdown",
   "metadata": {},
   "source": [
    "### 1. DeepSpeech (with optimised alpha beta)"
   ]
  },
  {
   "cell_type": "code",
   "execution_count": 3,
   "metadata": {},
   "outputs": [],
   "source": [
    "deepspeech_train = pd.DataFrame()\n",
    "deepspeech_dev = pd.DataFrame()\n",
    "deepspeech_test = pd.DataFrame()"
   ]
  },
  {
   "cell_type": "code",
   "execution_count": 6,
   "metadata": {},
   "outputs": [],
   "source": [
    "with open('deepspeech_train.txt', 'r', encoding='utf-8') as file_read:\n",
    "    data = file_read.read()\n",
    "    loaded_json = json.loads(data)\n",
    "    deepspeech_train = pd.DataFrame.from_dict(loaded_json)\n",
    "\n",
    "with open('deepspeech_dev.txt', 'r', encoding='utf-8') as file_read:\n",
    "    data = file_read.read()\n",
    "    loaded_json = json.loads(data)\n",
    "    deepspeech_dev = pd.DataFrame.from_dict(loaded_json)\n",
    "    \n",
    "with open('deepspeech_test.txt', 'r', encoding='utf-8') as file_read:\n",
    "    data = file_read.read()\n",
    "    loaded_json = json.loads(data)\n",
    "    deepspeech_test = pd.DataFrame.from_dict(loaded_json)    "
   ]
  },
  {
   "cell_type": "code",
   "execution_count": 7,
   "metadata": {},
   "outputs": [],
   "source": [
    "def replacePath(x):\n",
    "    return x.split(\"/media/data/LTLab.lan/agarwal/german-speech-corpus/swiss_german/splits_mathias/clips/\")[1]\n",
    "\n",
    "deepspeech_train['wav_filename'] = deepspeech_train['wav_filename'].apply(replacePath)\n",
    "deepspeech_dev['wav_filename'] = deepspeech_dev['wav_filename'].apply(replacePath)\n",
    "deepspeech_test['wav_filename'] = deepspeech_test['wav_filename'].apply(replacePath)"
   ]
  },
  {
   "cell_type": "code",
   "execution_count": 8,
   "metadata": {},
   "outputs": [],
   "source": [
    "deepspeech_train['length_ratio'] = deepspeech_train['res'].str.len()/deepspeech_train['src'].str.len()\n",
    "deepspeech_dev['length_ratio'] = deepspeech_dev['res'].str.len()/deepspeech_dev['src'].str.len()\n",
    "deepspeech_test['length_ratio'] = deepspeech_test['res'].str.len()/deepspeech_test['src'].str.len()"
   ]
  },
  {
   "cell_type": "code",
   "execution_count": 21,
   "metadata": {},
   "outputs": [
    {
     "data": {
      "text/html": [
       "<div>\n",
       "<style scoped>\n",
       "    .dataframe tbody tr th:only-of-type {\n",
       "        vertical-align: middle;\n",
       "    }\n",
       "\n",
       "    .dataframe tbody tr th {\n",
       "        vertical-align: top;\n",
       "    }\n",
       "\n",
       "    .dataframe thead th {\n",
       "        text-align: right;\n",
       "    }\n",
       "</style>\n",
       "<table border=\"1\" class=\"dataframe\">\n",
       "  <thead>\n",
       "    <tr style=\"text-align: right;\">\n",
       "      <th></th>\n",
       "      <th>wav_filename</th>\n",
       "      <th>src</th>\n",
       "      <th>res</th>\n",
       "      <th>wer</th>\n",
       "      <th>length_ratio</th>\n",
       "    </tr>\n",
       "  </thead>\n",
       "  <tbody>\n",
       "    <tr>\n",
       "      <th>0</th>\n",
       "      <td>11300.wav</td>\n",
       "      <td>dies schafft auch kontinuität und sicherheit i...</td>\n",
       "      <td>der kultur lage von forenkultur fördergesetz a...</td>\n",
       "      <td>1.750000</td>\n",
       "      <td>1.655738</td>\n",
       "    </tr>\n",
       "    <tr>\n",
       "      <th>1</th>\n",
       "      <td>21061.wav</td>\n",
       "      <td>noch einmal zuhanden der finanzdirektorin</td>\n",
       "      <td>er weiterhin als ein zu handen fragen in</td>\n",
       "      <td>1.600000</td>\n",
       "      <td>0.975610</td>\n",
       "    </tr>\n",
       "    <tr>\n",
       "      <th>2</th>\n",
       "      <td>207.wav</td>\n",
       "      <td>aber etwas möchte ich trotzdem noch sagen</td>\n",
       "      <td>er wird mit den die gesagt etwas möchte es gle...</td>\n",
       "      <td>1.428571</td>\n",
       "      <td>1.219512</td>\n",
       "    </tr>\n",
       "    <tr>\n",
       "      <th>3</th>\n",
       "      <td>9522.wav</td>\n",
       "      <td>andernfalls schiesst das ganze thema der kompe...</td>\n",
       "      <td>es bildete reihenweise damit als man ein solch...</td>\n",
       "      <td>1.333333</td>\n",
       "      <td>1.522727</td>\n",
       "    </tr>\n",
       "    <tr>\n",
       "      <th>4</th>\n",
       "      <td>29842.wav</td>\n",
       "      <td>jetzt muss es wiederum auch in einen regionale...</td>\n",
       "      <td>dem muss ich wieder in ein regionalen windrich...</td>\n",
       "      <td>1.333333</td>\n",
       "      <td>1.524590</td>\n",
       "    </tr>\n",
       "  </tbody>\n",
       "</table>\n",
       "</div>"
      ],
      "text/plain": [
       "  wav_filename                                                src  \\\n",
       "0    11300.wav  dies schafft auch kontinuität und sicherheit i...   \n",
       "1    21061.wav          noch einmal zuhanden der finanzdirektorin   \n",
       "2      207.wav          aber etwas möchte ich trotzdem noch sagen   \n",
       "3     9522.wav  andernfalls schiesst das ganze thema der kompe...   \n",
       "4    29842.wav  jetzt muss es wiederum auch in einen regionale...   \n",
       "\n",
       "                                                 res       wer  length_ratio  \n",
       "0  der kultur lage von forenkultur fördergesetz a...  1.750000      1.655738  \n",
       "1           er weiterhin als ein zu handen fragen in  1.600000      0.975610  \n",
       "2  er wird mit den die gesagt etwas möchte es gle...  1.428571      1.219512  \n",
       "3  es bildete reihenweise damit als man ein solch...  1.333333      1.522727  \n",
       "4  dem muss ich wieder in ein regionalen windrich...  1.333333      1.524590  "
      ]
     },
     "execution_count": 21,
     "metadata": {},
     "output_type": "execute_result"
    }
   ],
   "source": [
    "deepspeech_test[['wav_filename', 'src', 'res', 'wer', 'length_ratio']].head()"
   ]
  },
  {
   "cell_type": "code",
   "execution_count": null,
   "metadata": {},
   "outputs": [],
   "source": []
  },
  {
   "cell_type": "code",
   "execution_count": null,
   "metadata": {},
   "outputs": [],
   "source": []
  },
  {
   "cell_type": "markdown",
   "metadata": {},
   "source": [
    "### 2. Jasper"
   ]
  },
  {
   "cell_type": "code",
   "execution_count": 13,
   "metadata": {},
   "outputs": [],
   "source": [
    "jasper_train = pd.DataFrame()\n",
    "jasper_dev = pd.DataFrame()\n",
    "jasper_test = pd.DataFrame()\n",
    "\n",
    "jasper = pd.DataFrame(columns = ['train', 'dev','test'])"
   ]
  },
  {
   "cell_type": "code",
   "execution_count": 14,
   "metadata": {},
   "outputs": [
    {
     "name": "stdout",
     "output_type": "stream",
     "text": [
      "30492\n",
      "30461\n"
     ]
    }
   ],
   "source": [
    "data = []\n",
    "with open('jasper_train.txt') as f:\n",
    "    for row_num, line in enumerate(f):\n",
    "        if line is not '\\n':\n",
    "            try:\n",
    "                wav_filename = line.split('#')[0].rstrip('\\t')\n",
    "                res = line.split('#')[1].strip('\\n').strip('\\t').replace(\"\\t\", \" \")\n",
    "                match = deepspeech_train[deepspeech_train['wav_filename'].str.match(wav_filename+'.wav')]\n",
    "                src = match['src'].iloc[0]\n",
    "                wer = ji.wer(src, res)\n",
    "                length_ratio = len(res)/len(src)\n",
    "                data.append([wav_filename, res, src, wer, length_ratio])\n",
    "            except:\n",
    "                print(wav_filename)\n",
    "jasper_train = pd.DataFrame(data = data, columns = ['wav_filename', 'res', 'src', 'wer', 'length_ratio'])"
   ]
  },
  {
   "cell_type": "code",
   "execution_count": 15,
   "metadata": {},
   "outputs": [
    {
     "name": "stdout",
     "output_type": "stream",
     "text": [
      "25673\n",
      "31921\n",
      "6736\n",
      "16961\n",
      "23297\n",
      "26886\n",
      "32640\n",
      "15283\n",
      "15887\n",
      "16978\n",
      "22522\n",
      "12508\n",
      "6732\n",
      "9743\n"
     ]
    }
   ],
   "source": [
    "data = []\n",
    "with open('jasper_dev.txt') as f:\n",
    "    for row_num, line in enumerate(f):\n",
    "        if line is not '\\n':\n",
    "            try:\n",
    "                wav_filename = line.split('#')[0].rstrip('\\t')\n",
    "                res = line.split('#')[1].strip('\\n').strip('\\t').replace(\"\\t\", \" \")\n",
    "                match = deepspeech_dev[deepspeech_dev['wav_filename'].str.match(wav_filename+'.wav')]\n",
    "                src = match['src'].iloc[0]\n",
    "                wer = ji.wer(src, res)\n",
    "                length_ratio = len(res)/len(src)\n",
    "                data.append([wav_filename, res, src, wer, length_ratio])\n",
    "            except:\n",
    "                print(wav_filename)\n",
    "jasper_dev = pd.DataFrame(data = data, columns = ['wav_filename', 'res', 'src', 'wer', 'length_ratio'])"
   ]
  },
  {
   "cell_type": "code",
   "execution_count": 16,
   "metadata": {},
   "outputs": [
    {
     "name": "stdout",
     "output_type": "stream",
     "text": [
      "29472\n",
      "3319\n",
      "30907\n",
      "381\n",
      "1526\n",
      "17699\n",
      "23046\n",
      "10994\n",
      "29547\n",
      "14885\n",
      "22438\n",
      "29979\n",
      "13995\n",
      "21704\n",
      "19806\n",
      "29470\n"
     ]
    }
   ],
   "source": [
    "data = []\n",
    "with open('jasper_test.txt') as f:\n",
    "    for row_num, line in enumerate(f):\n",
    "        if line is not '\\n':\n",
    "            try:\n",
    "                wav_filename = line.split('#')[0].rstrip('\\t')\n",
    "                res = line.split('#')[1].strip('\\n').strip('\\t').replace(\"\\t\", \" \")\n",
    "                match = deepspeech_test[deepspeech_test['wav_filename'].str.match(wav_filename+'.wav')]\n",
    "                src = match['src'].iloc[0]\n",
    "                wer = ji.wer(src, res)\n",
    "                length_ratio = len(res)/len(src)\n",
    "                data.append([wav_filename, res, src, wer, length_ratio])\n",
    "            except:\n",
    "                print(wav_filename)\n",
    "jasper_test = pd.DataFrame(data = data, columns = ['wav_filename', 'res', 'src', 'wer', 'length_ratio'])"
   ]
  },
  {
   "cell_type": "code",
   "execution_count": 18,
   "metadata": {},
   "outputs": [
    {
     "data": {
      "text/html": [
       "<div>\n",
       "<style scoped>\n",
       "    .dataframe tbody tr th:only-of-type {\n",
       "        vertical-align: middle;\n",
       "    }\n",
       "\n",
       "    .dataframe tbody tr th {\n",
       "        vertical-align: top;\n",
       "    }\n",
       "\n",
       "    .dataframe thead th {\n",
       "        text-align: right;\n",
       "    }\n",
       "</style>\n",
       "<table border=\"1\" class=\"dataframe\">\n",
       "  <thead>\n",
       "    <tr style=\"text-align: right;\">\n",
       "      <th></th>\n",
       "      <th>wav_filename</th>\n",
       "      <th>res</th>\n",
       "      <th>src</th>\n",
       "      <th>wer</th>\n",
       "      <th>length_ratio</th>\n",
       "    </tr>\n",
       "  </thead>\n",
       "  <tbody>\n",
       "    <tr>\n",
       "      <th>0</th>\n",
       "      <td>28865</td>\n",
       "      <td>das stimmt</td>\n",
       "      <td>das stimmt</td>\n",
       "      <td>0.00</td>\n",
       "      <td>1.000000</td>\n",
       "    </tr>\n",
       "    <tr>\n",
       "      <th>1</th>\n",
       "      <td>22091</td>\n",
       "      <td>die velowege</td>\n",
       "      <td>sichere velowege</td>\n",
       "      <td>0.50</td>\n",
       "      <td>0.750000</td>\n",
       "    </tr>\n",
       "    <tr>\n",
       "      <th>2</th>\n",
       "      <td>208</td>\n",
       "      <td>um ist das so</td>\n",
       "      <td>warum ist das so</td>\n",
       "      <td>0.25</td>\n",
       "      <td>0.812500</td>\n",
       "    </tr>\n",
       "    <tr>\n",
       "      <th>3</th>\n",
       "      <td>35393</td>\n",
       "      <td>die stehen bleiben</td>\n",
       "      <td>stehen bleiben</td>\n",
       "      <td>0.50</td>\n",
       "      <td>1.285714</td>\n",
       "    </tr>\n",
       "    <tr>\n",
       "      <th>4</th>\n",
       "      <td>31604</td>\n",
       "      <td>ein existiert</td>\n",
       "      <td>er existiert</td>\n",
       "      <td>0.50</td>\n",
       "      <td>1.083333</td>\n",
       "    </tr>\n",
       "  </tbody>\n",
       "</table>\n",
       "</div>"
      ],
      "text/plain": [
       "  wav_filename                 res               src   wer  length_ratio\n",
       "0        28865          das stimmt        das stimmt  0.00      1.000000\n",
       "1        22091        die velowege  sichere velowege  0.50      0.750000\n",
       "2          208       um ist das so  warum ist das so  0.25      0.812500\n",
       "3        35393  die stehen bleiben    stehen bleiben  0.50      1.285714\n",
       "4        31604       ein existiert      er existiert  0.50      1.083333"
      ]
     },
     "execution_count": 18,
     "metadata": {},
     "output_type": "execute_result"
    }
   ],
   "source": [
    "jasper_test.head()"
   ]
  },
  {
   "cell_type": "code",
   "execution_count": null,
   "metadata": {},
   "outputs": [],
   "source": []
  },
  {
   "cell_type": "code",
   "execution_count": null,
   "metadata": {},
   "outputs": [],
   "source": []
  },
  {
   "cell_type": "markdown",
   "metadata": {},
   "source": [
    "# Section 2: Analysis"
   ]
  },
  {
   "cell_type": "markdown",
   "metadata": {},
   "source": [
    "This section is dedicated for data analysis."
   ]
  },
  {
   "cell_type": "code",
   "execution_count": null,
   "metadata": {},
   "outputs": [],
   "source": []
  },
  {
   "cell_type": "markdown",
   "metadata": {},
   "source": [
    "### 1. Length Graph"
   ]
  },
  {
   "cell_type": "markdown",
   "metadata": {},
   "source": [
    "**a. Train**"
   ]
  },
  {
   "cell_type": "code",
   "execution_count": 25,
   "metadata": {},
   "outputs": [
    {
     "name": "stdout",
     "output_type": "stream",
     "text": [
      "Blue: DeepSpeech\n",
      "Orange: Jasper\n"
     ]
    },
    {
     "data": {
      "image/png": "[encoded data removed]",
      "text/plain": [
       "<Figure size 432x288 with 1 Axes>"
      ]
     },
     "metadata": {},
     "output_type": "display_data"
    }
   ],
   "source": [
    "ax = sns.kdeplot(deepspeech_train['length_ratio'], shade=True)\n",
    "sns.kdeplot(jasper_train['length_ratio'], shade=True)\n",
    "\n",
    "sns.set_style(\"whitegrid\")\n",
    "ax.set(xlabel='Length Ratio', ylabel='Density')\n",
    "\n",
    "print('Blue: DeepSpeech')\n",
    "print('Orange: Jasper')"
   ]
  },
  {
   "cell_type": "code",
   "execution_count": null,
   "metadata": {},
   "outputs": [],
   "source": []
  },
  {
   "cell_type": "markdown",
   "metadata": {},
   "source": [
    "**b. Dev**"
   ]
  },
  {
   "cell_type": "code",
   "execution_count": 28,
   "metadata": {},
   "outputs": [
    {
     "name": "stdout",
     "output_type": "stream",
     "text": [
      "Blue: DeepSpeech\n",
      "Orange: Jasper\n"
     ]
    },
    {
     "data": {
      "image/png": "[encoded data removed]",
      "text/plain": [
       "<Figure size 432x288 with 1 Axes>"
      ]
     },
     "metadata": {},
     "output_type": "display_data"
    }
   ],
   "source": [
    "ax = sns.kdeplot(deepspeech_dev['length_ratio'], shade=True)\n",
    "sns.kdeplot(jasper_dev['length_ratio'], shade=True)\n",
    "\n",
    "sns.set_style(\"whitegrid\")\n",
    "ax.set(xlabel='Length Ratio', ylabel='Density')\n",
    "\n",
    "print('Blue: DeepSpeech')\n",
    "print('Orange: Jasper')"
   ]
  },
  {
   "cell_type": "code",
   "execution_count": null,
   "metadata": {},
   "outputs": [],
   "source": []
  },
  {
   "cell_type": "markdown",
   "metadata": {},
   "source": [
    "**c. Test**"
   ]
  },
  {
   "cell_type": "code",
   "execution_count": 29,
   "metadata": {},
   "outputs": [
    {
     "name": "stdout",
     "output_type": "stream",
     "text": [
      "Blue: DeepSpeech\n",
      "Orange: Jasper\n"
     ]
    },
    {
     "data": {
      "image/png": "[encoded data removed]",
      "text/plain": [
       "<Figure size 432x288 with 1 Axes>"
      ]
     },
     "metadata": {},
     "output_type": "display_data"
    }
   ],
   "source": [
    "ax = sns.kdeplot(deepspeech_test['length_ratio'], shade=True)\n",
    "sns.kdeplot(jasper_test['length_ratio'], shade=True)\n",
    "\n",
    "sns.set_style(\"whitegrid\")\n",
    "ax.set(xlabel='Length Ratio', ylabel='Density')\n",
    "\n",
    "print('Blue: DeepSpeech')\n",
    "print('Orange: Jasper')"
   ]
  },
  {
   "cell_type": "code",
   "execution_count": null,
   "metadata": {},
   "outputs": [],
   "source": []
  },
  {
   "cell_type": "code",
   "execution_count": null,
   "metadata": {},
   "outputs": [],
   "source": []
  },
  {
   "cell_type": "markdown",
   "metadata": {},
   "source": [
    "**WER Train**"
   ]
  },
  {
   "cell_type": "code",
   "execution_count": 76,
   "metadata": {},
   "outputs": [],
   "source": [
    "deepspeech_train_no_issue = deepspeech_train[deepspeech_train['length_ratio'] > 0.75]\n",
    "jasper_train_no_issue = jasper_train[jasper_train['length_ratio'] > 0.75]"
   ]
  },
  {
   "cell_type": "code",
   "execution_count": 77,
   "metadata": {},
   "outputs": [],
   "source": [
    "#deepspeech\n",
    "issue_dp = round(deepspeech_train['wer'].mean()*100,2)\n",
    "no_issue_dp = round(deepspeech_train_no_issue['wer'].mean()*100,2)\n",
    "\n",
    "#jasper\n",
    "issue_jp = round(jasper_train['wer'].mean()*100,2)\n",
    "no_issue_jp = round(jasper_train_no_issue['wer'].mean()*100,2)"
   ]
  },
  {
   "cell_type": "code",
   "execution_count": 78,
   "metadata": {},
   "outputs": [
    {
     "data": {
      "text/html": [
       "<div>\n",
       "<style scoped>\n",
       "    .dataframe tbody tr th:only-of-type {\n",
       "        vertical-align: middle;\n",
       "    }\n",
       "\n",
       "    .dataframe tbody tr th {\n",
       "        vertical-align: top;\n",
       "    }\n",
       "\n",
       "    .dataframe thead th {\n",
       "        text-align: right;\n",
       "    }\n",
       "</style>\n",
       "<table border=\"1\" class=\"dataframe\">\n",
       "  <thead>\n",
       "    <tr style=\"text-align: right;\">\n",
       "      <th></th>\n",
       "      <th>Mozilla</th>\n",
       "      <th>Jasper</th>\n",
       "    </tr>\n",
       "    <tr>\n",
       "      <th>Index</th>\n",
       "      <th></th>\n",
       "      <th></th>\n",
       "    </tr>\n",
       "  </thead>\n",
       "  <tbody>\n",
       "    <tr>\n",
       "      <th>Issue</th>\n",
       "      <td>53.82</td>\n",
       "      <td>15.88</td>\n",
       "    </tr>\n",
       "    <tr>\n",
       "      <th>No Issue</th>\n",
       "      <td>46.26</td>\n",
       "      <td>13.27</td>\n",
       "    </tr>\n",
       "  </tbody>\n",
       "</table>\n",
       "</div>"
      ],
      "text/plain": [
       "          Mozilla  Jasper\n",
       "Index                    \n",
       "Issue       53.82   15.88\n",
       "No Issue    46.26   13.27"
      ]
     },
     "execution_count": 78,
     "metadata": {},
     "output_type": "execute_result"
    }
   ],
   "source": [
    "data = [[\"Issue\", issue_dp, issue_jp], [\"No Issue\", no_issue_dp, no_issue_jp]]\n",
    "df = pd.DataFrame(data, columns=[\"Index\", \"Mozilla\", \"Jasper\"])\n",
    "df.set_index(\"Index\")"
   ]
  },
  {
   "cell_type": "code",
   "execution_count": null,
   "metadata": {},
   "outputs": [],
   "source": []
  },
  {
   "cell_type": "markdown",
   "metadata": {},
   "source": [
    "**WER Dev**"
   ]
  },
  {
   "cell_type": "code",
   "execution_count": 79,
   "metadata": {},
   "outputs": [],
   "source": [
    "deepspeech_dev_no_issue = deepspeech_dev[deepspeech_dev['length_ratio'] > 0.75]\n",
    "jasper_dev_no_issue = jasper_dev[jasper_dev['length_ratio'] > 0.75]"
   ]
  },
  {
   "cell_type": "code",
   "execution_count": 80,
   "metadata": {},
   "outputs": [],
   "source": [
    "#deepspeech\n",
    "issue_dp = round(deepspeech_dev['wer'].mean()*100,2)\n",
    "no_issue_dp = round(deepspeech_dev_no_issue['wer'].mean()*100,2)\n",
    "\n",
    "#jasper\n",
    "issue_jp = round(jasper_dev['wer'].mean()*100,2)\n",
    "no_issue_jp = round(jasper_dev_no_issue['wer'].mean()*100,2)"
   ]
  },
  {
   "cell_type": "code",
   "execution_count": 81,
   "metadata": {},
   "outputs": [
    {
     "data": {
      "text/html": [
       "<div>\n",
       "<style scoped>\n",
       "    .dataframe tbody tr th:only-of-type {\n",
       "        vertical-align: middle;\n",
       "    }\n",
       "\n",
       "    .dataframe tbody tr th {\n",
       "        vertical-align: top;\n",
       "    }\n",
       "\n",
       "    .dataframe thead th {\n",
       "        text-align: right;\n",
       "    }\n",
       "</style>\n",
       "<table border=\"1\" class=\"dataframe\">\n",
       "  <thead>\n",
       "    <tr style=\"text-align: right;\">\n",
       "      <th></th>\n",
       "      <th>Mozilla</th>\n",
       "      <th>Jasper</th>\n",
       "    </tr>\n",
       "    <tr>\n",
       "      <th>Index</th>\n",
       "      <th></th>\n",
       "      <th></th>\n",
       "    </tr>\n",
       "  </thead>\n",
       "  <tbody>\n",
       "    <tr>\n",
       "      <th>Issue</th>\n",
       "      <td>57.86</td>\n",
       "      <td>41.30</td>\n",
       "    </tr>\n",
       "    <tr>\n",
       "      <th>No Issue</th>\n",
       "      <td>51.00</td>\n",
       "      <td>39.66</td>\n",
       "    </tr>\n",
       "  </tbody>\n",
       "</table>\n",
       "</div>"
      ],
      "text/plain": [
       "          Mozilla  Jasper\n",
       "Index                    \n",
       "Issue       57.86   41.30\n",
       "No Issue    51.00   39.66"
      ]
     },
     "execution_count": 81,
     "metadata": {},
     "output_type": "execute_result"
    }
   ],
   "source": [
    "data = [[\"Issue\", issue_dp, issue_jp], [\"No Issue\", no_issue_dp, no_issue_jp]]\n",
    "df = pd.DataFrame(data, columns=[\"Index\", \"Mozilla\", \"Jasper\"])\n",
    "df.set_index(\"Index\")"
   ]
  },
  {
   "cell_type": "code",
   "execution_count": null,
   "metadata": {},
   "outputs": [],
   "source": []
  },
  {
   "cell_type": "markdown",
   "metadata": {},
   "source": [
    "**WER Test**"
   ]
  },
  {
   "cell_type": "code",
   "execution_count": 83,
   "metadata": {},
   "outputs": [],
   "source": [
    "deepspeech_test_no_issue = deepspeech_test[deepspeech_test['length_ratio'] > 0.75]\n",
    "jasper_test_no_issue = jasper_test[jasper_test['length_ratio'] > 0.75]"
   ]
  },
  {
   "cell_type": "code",
   "execution_count": 84,
   "metadata": {},
   "outputs": [],
   "source": [
    "#deepspeech\n",
    "issue_dp = round(deepspeech_test['wer'].mean()*100,2)\n",
    "no_issue_dp = round(deepspeech_test_no_issue['wer'].mean()*100,2)\n",
    "\n",
    "#jasper\n",
    "issue_jp = round(jasper_test['wer'].mean()*100,2)\n",
    "no_issue_jp = round(jasper_test_no_issue['wer'].mean()*100,2)"
   ]
  },
  {
   "cell_type": "code",
   "execution_count": 85,
   "metadata": {},
   "outputs": [
    {
     "data": {
      "text/html": [
       "<div>\n",
       "<style scoped>\n",
       "    .dataframe tbody tr th:only-of-type {\n",
       "        vertical-align: middle;\n",
       "    }\n",
       "\n",
       "    .dataframe tbody tr th {\n",
       "        vertical-align: top;\n",
       "    }\n",
       "\n",
       "    .dataframe thead th {\n",
       "        text-align: right;\n",
       "    }\n",
       "</style>\n",
       "<table border=\"1\" class=\"dataframe\">\n",
       "  <thead>\n",
       "    <tr style=\"text-align: right;\">\n",
       "      <th></th>\n",
       "      <th>Mozilla</th>\n",
       "      <th>Jasper</th>\n",
       "    </tr>\n",
       "    <tr>\n",
       "      <th>Index</th>\n",
       "      <th></th>\n",
       "      <th></th>\n",
       "    </tr>\n",
       "  </thead>\n",
       "  <tbody>\n",
       "    <tr>\n",
       "      <th>Issue</th>\n",
       "      <td>59.68</td>\n",
       "      <td>43.97</td>\n",
       "    </tr>\n",
       "    <tr>\n",
       "      <th>No Issue</th>\n",
       "      <td>51.18</td>\n",
       "      <td>41.85</td>\n",
       "    </tr>\n",
       "  </tbody>\n",
       "</table>\n",
       "</div>"
      ],
      "text/plain": [
       "          Mozilla  Jasper\n",
       "Index                    \n",
       "Issue       59.68   43.97\n",
       "No Issue    51.18   41.85"
      ]
     },
     "execution_count": 85,
     "metadata": {},
     "output_type": "execute_result"
    }
   ],
   "source": [
    "data = [[\"Issue\", issue_dp, issue_jp], [\"No Issue\", no_issue_dp, no_issue_jp]]\n",
    "df = pd.DataFrame(data, columns=[\"Index\", \"Mozilla\", \"Jasper\"])\n",
    "df.set_index(\"Index\")"
   ]
  },
  {
   "cell_type": "code",
   "execution_count": null,
   "metadata": {},
   "outputs": [],
   "source": []
  },
  {
   "cell_type": "code",
   "execution_count": null,
   "metadata": {},
   "outputs": [],
   "source": []
  }
 ],
 "metadata": {
  "kernelspec": {
   "display_name": "Python 3",
   "language": "python",
   "name": "python3"
  },
  "language_info": {
   "codemirror_mode": {
    "name": "ipython",
    "version": 3
   },
   "file_extension": ".py",
   "mimetype": "text/x-python",
   "name": "python",
   "nbconvert_exporter": "python",
   "pygments_lexer": "ipython3",
   "version": "3.6.0"
  }
 },
 "nbformat": 4,
 "nbformat_minor": 2
}
